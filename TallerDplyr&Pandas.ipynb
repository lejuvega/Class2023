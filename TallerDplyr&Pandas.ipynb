{
  "nbformat": 4,
  "nbformat_minor": 0,
  "metadata": {
    "colab": {
      "provenance": [],
      "authorship_tag": "ABX9TyOzQFCgzokehBT+6cGKPcrp",
      "include_colab_link": true
    },
    "kernelspec": {
      "name": "python3",
      "display_name": "Python 3"
    },
    "language_info": {
      "name": "python"
    }
  },
  "cells": [
    {
      "cell_type": "markdown",
      "metadata": {
        "id": "view-in-github",
        "colab_type": "text"
      },
      "source": [
        "<a href=\"https://colab.research.google.com/github/ALRIER/Class2023/blob/February2023/TallerDplyr%26Pandas.ipynb\" target=\"_parent\"><img src=\"https://colab.research.google.com/assets/colab-badge.svg\" alt=\"Open In Colab\"/></a>"
      ]
    },
    {
      "cell_type": "code",
      "source": [
        "!pip install rpy2==3.5.1"
      ],
      "metadata": {
        "colab": {
          "base_uri": "https://localhost:8080/"
        },
        "id": "jQRDSNBCJ6r4",
        "outputId": "8cb82bfe-ca7d-457c-f4ff-6d7dc321b9ac"
      },
      "execution_count": 1,
      "outputs": [
        {
          "output_type": "stream",
          "name": "stdout",
          "text": [
            "Looking in indexes: https://pypi.org/simple, https://us-python.pkg.dev/colab-wheels/public/simple/\n",
            "Collecting rpy2==3.5.1\n",
            "  Downloading rpy2-3.5.1.tar.gz (201 kB)\n",
            "\u001b[2K     \u001b[90m━━━━━━━━━━━━━━━━━━━━━━━━━━━━━━━━━━━━━━━\u001b[0m \u001b[32m201.7/201.7 KB\u001b[0m \u001b[31m5.1 MB/s\u001b[0m eta \u001b[36m0:00:00\u001b[0m\n",
            "\u001b[?25h  Preparing metadata (setup.py) ... \u001b[?25l\u001b[?25hdone\n",
            "Requirement already satisfied: cffi>=1.10.0 in /usr/local/lib/python3.8/dist-packages (from rpy2==3.5.1) (1.15.1)\n",
            "Requirement already satisfied: jinja2 in /usr/local/lib/python3.8/dist-packages (from rpy2==3.5.1) (3.1.2)\n",
            "Requirement already satisfied: pytz in /usr/local/lib/python3.8/dist-packages (from rpy2==3.5.1) (2022.7.1)\n",
            "Requirement already satisfied: tzlocal in /usr/local/lib/python3.8/dist-packages (from rpy2==3.5.1) (1.5.1)\n",
            "Requirement already satisfied: pycparser in /usr/local/lib/python3.8/dist-packages (from cffi>=1.10.0->rpy2==3.5.1) (2.21)\n",
            "Requirement already satisfied: MarkupSafe>=2.0 in /usr/local/lib/python3.8/dist-packages (from jinja2->rpy2==3.5.1) (2.1.2)\n",
            "Building wheels for collected packages: rpy2\n",
            "  Building wheel for rpy2 (setup.py) ... \u001b[?25l\u001b[?25hdone\n",
            "  Created wheel for rpy2: filename=rpy2-3.5.1-cp38-cp38-linux_x86_64.whl size=318372 sha256=635b17af095aa40a34c468263a4cb0b5c842c87863ae80c4602201cefa4b8853\n",
            "  Stored in directory: /root/.cache/pip/wheels/6b/40/7d/f63e87fd83e8b99ee837c8e3489081c4b3489134bc520235ed\n",
            "Successfully built rpy2\n",
            "Installing collected packages: rpy2\n",
            "  Attempting uninstall: rpy2\n",
            "    Found existing installation: rpy2 3.5.5\n",
            "    Uninstalling rpy2-3.5.5:\n",
            "      Successfully uninstalled rpy2-3.5.5\n",
            "Successfully installed rpy2-3.5.1\n"
          ]
        }
      ]
    },
    {
      "cell_type": "code",
      "source": [
        "# activate R magic\n",
        "%load_ext rpy2.ipython"
      ],
      "metadata": {
        "id": "194moOZ4J80p"
      },
      "execution_count": 2,
      "outputs": []
    },
    {
      "cell_type": "markdown",
      "source": [
        "Este taller permitirá poner en práctica el uso de dplyr en R, pandas y numpy en Python. Para ello, vamos a crear un conjunto de datos ficticio que contendrá información sobre ventas de productos en diferentes regiones y periodos de tiempo."
      ],
      "metadata": {
        "id": "QED3EexoJrJc"
      }
    },
    {
      "cell_type": "markdown",
      "source": [
        "#Creación del dataset\n",
        "\n",
        "Para crear nuestro dataset, vamos a utilizar la función data.frame() en R y pd.DataFrame() en Python. Para ello, vamos a crear una lista con las variables que queremos incluir en nuestro dataset y luego convertiremos esa lista en un data frame.\n"
      ],
      "metadata": {
        "id": "k-YFTgRvJxeC"
      }
    },
    {
      "cell_type": "code",
      "source": [
        "%%R\n",
        "library(\"dplyr\")"
      ],
      "metadata": {
        "colab": {
          "base_uri": "https://localhost:8080/"
        },
        "id": "jrOkKizDKO7m",
        "outputId": "6eeb2048-7c31-4659-8799-3dadbf36e927"
      },
      "execution_count": 6,
      "outputs": [
        {
          "output_type": "stream",
          "name": "stderr",
          "text": [
            "WARNING:rpy2.rinterface_lib.callbacks:R[write to console]: \n",
            "Attaching package: ‘dplyr’\n",
            "\n",
            "\n",
            "WARNING:rpy2.rinterface_lib.callbacks:R[write to console]: The following objects are masked from ‘package:stats’:\n",
            "\n",
            "    filter, lag\n",
            "\n",
            "\n",
            "WARNING:rpy2.rinterface_lib.callbacks:R[write to console]: The following objects are masked from ‘package:base’:\n",
            "\n",
            "    intersect, setdiff, setequal, union\n",
            "\n",
            "\n"
          ]
        }
      ]
    },
    {
      "cell_type": "code",
      "execution_count": 7,
      "metadata": {
        "id": "RzYiw_cIJli_"
      },
      "outputs": [],
      "source": [
        "%%R\n",
        "\n",
        "# Crear lista con las variables del dataset\n",
        "ventas <- list(\n",
        "  producto = c(\"Producto A\", \"Producto B\", \"Producto C\", \"Producto A\", \"Producto B\", \"Producto C\"),\n",
        "  region = c(\"Norte\", \"Norte\", \"Norte\", \"Sur\", \"Sur\", \"Sur\"),\n",
        "  periodo = c(\"Enero\", \"Enero\", \"Enero\", \"Febrero\", \"Febrero\", \"Febrero\"),\n",
        "  ventas = c(100, 50, 75, 200, 150, 100)\n",
        ")\n",
        "\n",
        "# Convertir lista en data frame\n",
        "ventas_df <- data.frame(ventas)\n"
      ]
    },
    {
      "cell_type": "markdown",
      "source": [
        "En Python:"
      ],
      "metadata": {
        "id": "K5dX2q1iKDk7"
      }
    },
    {
      "cell_type": "code",
      "source": [
        "import pandas as pd\n",
        "\n",
        "# Crear lista con las variables del dataset\n",
        "ventas = {\n",
        "    \"producto\": [\"Producto A\", \"Producto B\", \"Producto C\", \"Producto A\", \"Producto B\", \"Producto C\"],\n",
        "    \"region\": [\"Norte\", \"Norte\", \"Norte\", \"Sur\", \"Sur\", \"Sur\"],\n",
        "    \"periodo\": [\"Enero\", \"Enero\", \"Enero\", \"Febrero\", \"Febrero\", \"Febrero\"],\n",
        "    \"ventas\": [100, 50, 75, 200, 150, 100]\n",
        "}\n",
        "\n",
        "# Convertir lista en data frame\n",
        "ventas_df = pd.DataFrame(ventas)\n"
      ],
      "metadata": {
        "id": "6uEI9hoyKEXv"
      },
      "execution_count": 8,
      "outputs": []
    },
    {
      "cell_type": "markdown",
      "source": [
        "Una vez que tenemos nuestro dataset, podemos proceder a realizar diferentes tareas utilizando dplyr en R y pandas y numpy en Python."
      ],
      "metadata": {
        "id": "bguJLqC5KaUr"
      }
    },
    {
      "cell_type": "markdown",
      "source": [
        "#Taller"
      ],
      "metadata": {
        "id": "r_rXoWRhKdQB"
      }
    },
    {
      "cell_type": "markdown",
      "source": [
        "A continuación, presentamos un taller de 10 puntos que nos permitirá poner en práctica el uso de dplyr en R y pandas y numpy en Python con nuestro dataset de ventas.\n",
        "\n",
        "1. Carga los datos y visualiza el dataset. para cada dataset vamos a imprimir el encabezado para verificar que está bien cargado. \n",
        "\n",
        "Únicamente en python vamos a aplicar la orden describe()para ver un recuento estadístico y entender como se están comportando los datos. \n",
        "\n"
      ],
      "metadata": {
        "id": "q_r_pRG_Kg4A"
      }
    },
    {
      "cell_type": "code",
      "source": [
        "%%R\n",
        "#Your Code here guys! --->"
      ],
      "metadata": {
        "id": "cilavRs1LX8U"
      },
      "execution_count": null,
      "outputs": []
    },
    {
      "cell_type": "code",
      "source": [
        "#Your Code here guys! --->"
      ],
      "metadata": {
        "id": "OFXsL9l9L3FE"
      },
      "execution_count": null,
      "outputs": []
    },
    {
      "cell_type": "markdown",
      "source": [
        "2. Filtra el dataset para obtener las ventas de \"Producto A\".\n"
      ],
      "metadata": {
        "id": "YLDvfUNOLauL"
      }
    },
    {
      "cell_type": "code",
      "source": [
        "%%R\n",
        "#Your Code here guys! --->"
      ],
      "metadata": {
        "id": "wxTyyCn2LdFJ"
      },
      "execution_count": null,
      "outputs": []
    },
    {
      "cell_type": "code",
      "source": [
        "#Your Code here guys! --->"
      ],
      "metadata": {
        "id": "8NjVMDvRL2UW"
      },
      "execution_count": null,
      "outputs": []
    },
    {
      "cell_type": "markdown",
      "source": [
        "3. Agrupa el dataset por región y periodo y calcula la media de las ventas.\n"
      ],
      "metadata": {
        "id": "K5uoJjNxLda9"
      }
    },
    {
      "cell_type": "code",
      "source": [
        "%%R\n",
        "#Your Code here guys! --->"
      ],
      "metadata": {
        "id": "En6_jQBGLtg2"
      },
      "execution_count": null,
      "outputs": []
    },
    {
      "cell_type": "code",
      "source": [
        "#Your Code here guys! --->"
      ],
      "metadata": {
        "id": "nL6tCiD5L18f"
      },
      "execution_count": null,
      "outputs": []
    },
    {
      "cell_type": "markdown",
      "source": [
        "4. Calcula la suma total de las ventas para cada periodo.\n"
      ],
      "metadata": {
        "id": "YdJvm3gtLfO-"
      }
    },
    {
      "cell_type": "code",
      "source": [
        "%%R\n",
        "#Your Code here guys! --->"
      ],
      "metadata": {
        "id": "9nc3o0EALupg"
      },
      "execution_count": null,
      "outputs": []
    },
    {
      "cell_type": "code",
      "source": [
        "#Your Code here guys! --->"
      ],
      "metadata": {
        "id": "zPb4QAO2L1bG"
      },
      "execution_count": null,
      "outputs": []
    },
    {
      "cell_type": "markdown",
      "source": [
        "5. Utiliza la función mutate() en R y assign() en Python para crear una nueva variable que calcule la diferencia entre las ventas de cada producto y la media de las ventas de ese producto.\n"
      ],
      "metadata": {
        "id": "UWLU88qvLhIE"
      }
    },
    {
      "cell_type": "code",
      "source": [
        "%%R\n",
        "#Your Code here guys! --->"
      ],
      "metadata": {
        "id": "PeZE9qQ0LvWd"
      },
      "execution_count": null,
      "outputs": []
    },
    {
      "cell_type": "code",
      "source": [
        "#Your Code here guys! --->"
      ],
      "metadata": {
        "id": "Wrky4HyML0_e"
      },
      "execution_count": null,
      "outputs": []
    },
    {
      "cell_type": "markdown",
      "source": [
        "6 .Utiliza la función arrange() en R y sort_values() en Python para ordenar el dataset por ventas de mayor a menor.\n"
      ],
      "metadata": {
        "id": "roLWgO0bLjTs"
      }
    },
    {
      "cell_type": "code",
      "source": [
        "%%R\n",
        "#Your Code here guys! --->"
      ],
      "metadata": {
        "id": "6oduHJuSLv0P"
      },
      "execution_count": null,
      "outputs": []
    },
    {
      "cell_type": "code",
      "source": [
        "#Your Code here guys! --->"
      ],
      "metadata": {
        "id": "I_RoBBLuL0fx"
      },
      "execution_count": null,
      "outputs": []
    },
    {
      "cell_type": "markdown",
      "source": [
        "7. Utiliza la función select() en R y loc[] en Python para seleccionar las variables \"producto\" y \"ventas\".\n"
      ],
      "metadata": {
        "id": "QJgrGW6xLk5Z"
      }
    },
    {
      "cell_type": "code",
      "source": [
        "%%R\n",
        "#Your Code here guys! --->"
      ],
      "metadata": {
        "id": "IDtfBbB1LwUN"
      },
      "execution_count": null,
      "outputs": []
    },
    {
      "cell_type": "code",
      "source": [
        "#Your Code here guys! --->"
      ],
      "metadata": {
        "id": "kMrlUidSLz-s"
      },
      "execution_count": null,
      "outputs": []
    },
    {
      "cell_type": "markdown",
      "source": [
        "8. Utiliza la función filter() en R y query() en Python para filtrar el dataset para obtener las ventas de \"Producto A\" en la región Norte.\n"
      ],
      "metadata": {
        "id": "fvAUVtarLmWW"
      }
    },
    {
      "cell_type": "code",
      "source": [
        "%%R\n",
        "#Your Code here guys! --->"
      ],
      "metadata": {
        "id": "9ci3_FDULxCR"
      },
      "execution_count": null,
      "outputs": []
    },
    {
      "cell_type": "code",
      "source": [
        "#Your Code here guys! --->"
      ],
      "metadata": {
        "id": "FCGjjH84LzlW"
      },
      "execution_count": null,
      "outputs": []
    },
    {
      "cell_type": "markdown",
      "source": [
        "9. Utiliza la función summarise() en R y agg() en Python para calcular la suma total de las ventas de \"Producto A\".\n"
      ],
      "metadata": {
        "id": "W3xzooFoLn0v"
      }
    },
    {
      "cell_type": "code",
      "source": [
        "%%R\n",
        "#Your Code here guys! --->"
      ],
      "metadata": {
        "id": "LHNLOOqoLxq8"
      },
      "execution_count": null,
      "outputs": []
    },
    {
      "cell_type": "code",
      "source": [
        "#Your Code here guys! --->"
      ],
      "metadata": {
        "id": "ksgl1-AlLzOL"
      },
      "execution_count": null,
      "outputs": []
    },
    {
      "cell_type": "markdown",
      "source": [
        "10. Utiliza la función group_by() en R y groupby()"
      ],
      "metadata": {
        "id": "bLklXUcULpZt"
      }
    },
    {
      "cell_type": "code",
      "source": [
        "%%R\n",
        "#Your Code here guys! --->"
      ],
      "metadata": {
        "id": "Qb5Xit0PLyQB"
      },
      "execution_count": null,
      "outputs": []
    },
    {
      "cell_type": "code",
      "source": [
        "#Your Code here guys! --->"
      ],
      "metadata": {
        "id": "uUko7g6aLyo1"
      },
      "execution_count": null,
      "outputs": []
    }
  ]
}